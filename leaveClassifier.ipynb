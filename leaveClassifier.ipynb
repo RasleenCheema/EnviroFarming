{
  "nbformat": 4,
  "nbformat_minor": 0,
  "metadata": {
    "kernelspec": {
      "name": "python3",
      "display_name": "Python 3"
    },
    "language_info": {
      "codemirror_mode": {
        "name": "ipython",
        "version": 3
      },
      "file_extension": ".py",
      "mimetype": "text/x-python",
      "name": "python",
      "nbconvert_exporter": "python",
      "pygments_lexer": "ipython3",
      "version": "3.6.9"
    },
    "colab": {
      "name": "PAU!!.ipynb",
      "provenance": [],
      "collapsed_sections": [
        "e6NqDvrhdQqQ"
      ],
      "machine_shape": "hm"
    },
    "accelerator": "TPU"
  },
  "cells": [
    {
      "cell_type": "code",
      "metadata": {
        "id": "e8A0raPBdQop",
        "colab_type": "code",
        "colab": {}
      },
      "source": [
        "from PIL import Image as image\n",
        "import numpy as np\n",
        "import os\n",
        "import csv"
      ],
      "execution_count": 0,
      "outputs": []
    },
    {
      "cell_type": "code",
      "metadata": {
        "id": "GL_yIP5-dX40",
        "colab_type": "code",
        "outputId": "8aad8859-892d-46ff-808a-bda2d7fe1b17",
        "colab": {
          "base_uri": "https://localhost:8080/",
          "height": 121
        }
      },
      "source": [
        "from google.colab import drive\n",
        "drive.mount('/content/drive')"
      ],
      "execution_count": 0,
      "outputs": [
        {
          "output_type": "stream",
          "text": [
            "Go to this URL in a browser: https://accounts.google.com/o/oauth2/auth?client_id=947318989803-6bn6qk8qdgf4n4g3pfee6491hc0brc4i.apps.googleusercontent.com&redirect_uri=urn%3aietf%3awg%3aoauth%3a2.0%3aoob&response_type=code&scope=email%20https%3a%2f%2fwww.googleapis.com%2fauth%2fdocs.test%20https%3a%2f%2fwww.googleapis.com%2fauth%2fdrive%20https%3a%2f%2fwww.googleapis.com%2fauth%2fdrive.photos.readonly%20https%3a%2f%2fwww.googleapis.com%2fauth%2fpeopleapi.readonly\n",
            "\n",
            "Enter your authorization code:\n",
            "··········\n",
            "Mounted at /content/drive\n"
          ],
          "name": "stdout"
        }
      ]
    },
    {
      "cell_type": "code",
      "metadata": {
        "id": "4nsIm_4WdQo0",
        "colab_type": "code",
        "outputId": "a4d5866e-97c8-4c30-9690-a3f45c01cc58",
        "colab": {
          "base_uri": "https://localhost:8080/",
          "height": 79
        }
      },
      "source": [
        "import keras\n",
        "import matplotlib.pyplot as plt\n",
        "from keras.datasets import mnist\n",
        "from keras.models import Sequential\n",
        "from keras.layers import Dense, Dropout, Flatten\n",
        "from keras.layers import Conv2D, MaxPooling2D\n",
        "from keras import backend as K"
      ],
      "execution_count": 0,
      "outputs": [
        {
          "output_type": "stream",
          "text": [
            "Using TensorFlow backend.\n"
          ],
          "name": "stderr"
        },
        {
          "output_type": "display_data",
          "data": {
            "text/html": [
              "<p style=\"color: red;\">\n",
              "The default version of TensorFlow in Colab will soon switch to TensorFlow 2.x.<br>\n",
              "We recommend you <a href=\"https://www.tensorflow.org/guide/migrate\" target=\"_blank\">upgrade</a> now \n",
              "or ensure your notebook will continue to use TensorFlow 1.x via the <code>%tensorflow_version 1.x</code> magic:\n",
              "<a href=\"https://colab.research.google.com/notebooks/tensorflow_version.ipynb\" target=\"_blank\">more info</a>.</p>\n"
            ],
            "text/plain": [
              "<IPython.core.display.HTML object>"
            ]
          },
          "metadata": {
            "tags": []
          }
        }
      ]
    },
    {
      "cell_type": "code",
      "metadata": {
        "id": "I1RY3TCFdQo6",
        "colab_type": "code",
        "colab": {}
      },
      "source": [
        "from sklearn.preprocessing import OneHotEncoder"
      ],
      "execution_count": 0,
      "outputs": []
    },
    {
      "cell_type": "code",
      "metadata": {
        "id": "hhUvRBrTdQo9",
        "colab_type": "code",
        "colab": {}
      },
      "source": [
        "enc = OneHotEncoder()"
      ],
      "execution_count": 0,
      "outputs": []
    },
    {
      "cell_type": "code",
      "metadata": {
        "id": "kJ4i3oiqdQpC",
        "colab_type": "code",
        "colab": {}
      },
      "source": [
        "img_rows, img_cols = 256, 256"
      ],
      "execution_count": 0,
      "outputs": []
    },
    {
      "cell_type": "code",
      "metadata": {
        "id": "piNPlqVIdQpG",
        "colab_type": "code",
        "outputId": "5c13b2a6-e081-454d-ead6-86ccb7c6b5f9",
        "colab": {
          "base_uri": "https://localhost:8080/",
          "height": 34
        }
      },
      "source": [
        "os.getcwd()"
      ],
      "execution_count": 0,
      "outputs": [
        {
          "output_type": "execute_result",
          "data": {
            "text/plain": [
              "'/content'"
            ]
          },
          "metadata": {
            "tags": []
          },
          "execution_count": 7
        }
      ]
    },
    {
      "cell_type": "markdown",
      "metadata": {
        "id": "ZPVpIPKWdQpL",
        "colab_type": "text"
      },
      "source": [
        "# DATA!"
      ]
    },
    {
      "cell_type": "code",
      "metadata": {
        "id": "0LLCuzn1dQpM",
        "colab_type": "code",
        "colab": {}
      },
      "source": [
        "path = '/content/drive/My Drive/PlantVillage/'"
      ],
      "execution_count": 0,
      "outputs": []
    },
    {
      "cell_type": "code",
      "metadata": {
        "id": "fZvTNKRymPcN",
        "colab_type": "code",
        "colab": {}
      },
      "source": [
        "dirlist = os.listdir(path)"
      ],
      "execution_count": 0,
      "outputs": []
    },
    {
      "cell_type": "code",
      "metadata": {
        "id": "9HKJ3IPKmRu2",
        "colab_type": "code",
        "outputId": "d6d4d560-68d1-46f9-b207-a5876181a241",
        "colab": {
          "base_uri": "https://localhost:8080/",
          "height": 269
        }
      },
      "source": [
        "dirlist"
      ],
      "execution_count": 0,
      "outputs": [
        {
          "output_type": "execute_result",
          "data": {
            "text/plain": [
              "['Potato___Late_blight',\n",
              " 'Pepper__bell___healthy',\n",
              " 'Pepper__bell___Bacterial_spot',\n",
              " 'Potato___healthy',\n",
              " 'Potato___Early_blight',\n",
              " 'Tomato__Target_Spot',\n",
              " 'Tomato_Late_blight',\n",
              " 'Tomato_healthy',\n",
              " 'Tomato__Tomato_mosaic_virus',\n",
              " 'Tomato_Septoria_leaf_spot',\n",
              " 'Tomato_Spider_mites_Two_spotted_spider_mite',\n",
              " 'Tomato_Leaf_Mold',\n",
              " 'Tomato_Early_blight',\n",
              " 'Tomato_Bacterial_spot',\n",
              " 'Tomato__Tomato_YellowLeaf__Curl_Virus']"
            ]
          },
          "metadata": {
            "tags": []
          },
          "execution_count": 10
        }
      ]
    },
    {
      "cell_type": "code",
      "metadata": {
        "id": "R3jWWsQMdQpP",
        "colab_type": "code",
        "colab": {}
      },
      "source": [
        "folders = os.listdir(path)\n",
        "\n",
        "records = []\n",
        "\n",
        "for fname in folders:\n",
        "    img_paths = os.listdir(path+fname)\n",
        "    for i_name in img_paths:\n",
        "        records.append(path+fname+'/'+i_name)"
      ],
      "execution_count": 0,
      "outputs": []
    },
    {
      "cell_type": "code",
      "metadata": {
        "id": "apRaidKgdQpT",
        "colab_type": "code",
        "colab": {}
      },
      "source": [
        "np.random.shuffle(records)"
      ],
      "execution_count": 0,
      "outputs": []
    },
    {
      "cell_type": "code",
      "metadata": {
        "id": "jv6s0dIQdQpY",
        "colab_type": "code",
        "colab": {}
      },
      "source": [
        "labels = []\n",
        "for ent in range(len(records)):\n",
        "    \n",
        "    label = records[ent].split('/')[5]\n",
        "    \n",
        "    labels.append(label)"
      ],
      "execution_count": 0,
      "outputs": []
    },
    {
      "cell_type": "code",
      "metadata": {
        "id": "wiCVneXpdQpd",
        "colab_type": "code",
        "outputId": "8c895ac2-bb87-4b1b-cd47-50fdf6f79b19",
        "colab": {
          "base_uri": "https://localhost:8080/",
          "height": 252
        }
      },
      "source": [
        "set(labels[:]), set(labels[1001:2000])"
      ],
      "execution_count": 0,
      "outputs": [
        {
          "output_type": "execute_result",
          "data": {
            "text/plain": [
              "({'Tomato_Late_blight',\n",
              "  'Tomato_Leaf_Mold',\n",
              "  'Tomato_Septoria_leaf_spot',\n",
              "  'Tomato_Spider_mites_Two_spotted_spider_mite',\n",
              "  'Tomato__Target_Spot',\n",
              "  'Tomato__Tomato_YellowLeaf__Curl_Virus',\n",
              "  'Tomato__Tomato_mosaic_virus'},\n",
              " {'Tomato_Late_blight',\n",
              "  'Tomato_Leaf_Mold',\n",
              "  'Tomato_Septoria_leaf_spot',\n",
              "  'Tomato_Spider_mites_Two_spotted_spider_mite',\n",
              "  'Tomato__Target_Spot',\n",
              "  'Tomato__Tomato_YellowLeaf__Curl_Virus',\n",
              "  'Tomato__Tomato_mosaic_virus'})"
            ]
          },
          "metadata": {
            "tags": []
          },
          "execution_count": 20
        }
      ]
    },
    {
      "cell_type": "code",
      "metadata": {
        "id": "2JtFOHTQdQpg",
        "colab_type": "code",
        "outputId": "91dc2a12-e2b3-45c3-ceda-0e411b4805d5",
        "colab": {
          "base_uri": "https://localhost:8080/",
          "height": 34
        }
      },
      "source": [
        "len(records)"
      ],
      "execution_count": 0,
      "outputs": [
        {
          "output_type": "execute_result",
          "data": {
            "text/plain": [
              "10661"
            ]
          },
          "metadata": {
            "tags": []
          },
          "execution_count": 14
        }
      ]
    },
    {
      "cell_type": "code",
      "metadata": {
        "id": "dYLJfXBhdQpj",
        "colab_type": "code",
        "colab": {}
      },
      "source": [
        "train_records = records[ : 8000]\n",
        "test_records = records[8000 : ]\n",
        "train_labels = labels[ : 8000]\n",
        "test_labels = labels[8000 : ]"
      ],
      "execution_count": 0,
      "outputs": []
    },
    {
      "cell_type": "code",
      "metadata": {
        "id": "GmJuf_yxdQpn",
        "colab_type": "code",
        "outputId": "5a18e822-544f-45f9-ce9f-6fa627ead795",
        "colab": {
          "base_uri": "https://localhost:8080/",
          "height": 34
        }
      },
      "source": [
        "len(test_records)"
      ],
      "execution_count": 0,
      "outputs": [
        {
          "output_type": "execute_result",
          "data": {
            "text/plain": [
              "2661"
            ]
          },
          "metadata": {
            "tags": []
          },
          "execution_count": 19
        }
      ]
    },
    {
      "cell_type": "code",
      "metadata": {
        "id": "0gFP_TWqdQpq",
        "colab_type": "code",
        "outputId": "14b044da-34a8-4115-dc42-b31d672a8e04",
        "colab": {
          "base_uri": "https://localhost:8080/",
          "height": 34
        }
      },
      "source": [
        "len(train_records)"
      ],
      "execution_count": 0,
      "outputs": [
        {
          "output_type": "execute_result",
          "data": {
            "text/plain": [
              "8000"
            ]
          },
          "metadata": {
            "tags": []
          },
          "execution_count": 20
        }
      ]
    },
    {
      "cell_type": "code",
      "metadata": {
        "id": "W-495i2EdQpu",
        "colab_type": "code",
        "colab": {}
      },
      "source": [
        ""
      ],
      "execution_count": 0,
      "outputs": []
    },
    {
      "cell_type": "markdown",
      "metadata": {
        "id": "mFtREcYNdQpx",
        "colab_type": "text"
      },
      "source": [
        "# TEST DATA!"
      ]
    },
    {
      "cell_type": "code",
      "metadata": {
        "id": "DDhTSBEbdQpy",
        "colab_type": "code",
        "colab": {}
      },
      "source": [
        "test_pixels = []\n",
        "\n",
        "test_labels = np.asarray(test_labels)\n",
        "\n",
        "test_labels = test_labels.reshape(-1, 1)\n",
        "\n",
        "enc.fit(test_labels)\n",
        "\n",
        "test_labels = enc.transform(test_labels)\n",
        "\n",
        "classes = test_labels.shape[1]\n",
        "\n",
        "for image_name in test_records:\n",
        "    \n",
        "    PATH = image_name\n",
        "    \n",
        "    # Traversing every Image\n",
        "    img = image.open(PATH)\n",
        "        \n",
        "    width, height = img.size\n",
        "    mat = img.format\n",
        "    mode = img.mode\n",
        "\n",
        "    # Greyscale\n",
        "    img_grey = img.convert('L')\n",
        "\n",
        "    # Save as Greyscale \n",
        "    value = np.asarray(img_grey.getdata(), dtype=np.int).reshape((img_grey.size[1], img_grey.size[0]))\n",
        "    value = value.flatten()\n",
        "#   value = value.reshape(1, 65536)\n",
        "    test_pixels.append(value)\n",
        "        \n",
        "test_pixels = np.asarray(test_pixels, dtype = 'int')\n",
        "    \n",
        "if K.image_data_format() == 'channels_first':\n",
        "#     train_pixels = train_pixels.reshape(train_pixels.shape[0], 1, img_rows, img_cols)\n",
        "    test_pixels = test_pixels.reshape(test_pixels.shape[0], 1, img_rows, img_cols)\n",
        "    input_shape = (1, img_rows, img_cols)\n",
        "else:\n",
        "#     train_pixels = train_pixels.reshape(train_pixels.shape[0], img_rows, img_cols, 1)\n",
        "    test_pixels = test_pixels.reshape(test_pixels.shape[0], img_rows, img_cols, 1)\n",
        "    input_shape = (img_rows, img_cols, 1)\n",
        "    \n",
        "test_pixels = test_pixels.astype('float32')\n",
        "    \n",
        "test_pixels /= 255  "
      ],
      "execution_count": 0,
      "outputs": []
    },
    {
      "cell_type": "code",
      "metadata": {
        "id": "y6ks3gMkdQp1",
        "colab_type": "code",
        "outputId": "388139d2-4e61-4b7f-a46c-5cfe1df63c06",
        "colab": {
          "base_uri": "https://localhost:8080/",
          "height": 34
        }
      },
      "source": [
        "test_pixels.shape"
      ],
      "execution_count": 0,
      "outputs": [
        {
          "output_type": "execute_result",
          "data": {
            "text/plain": [
              "(2661, 256, 256, 1)"
            ]
          },
          "metadata": {
            "tags": []
          },
          "execution_count": 22
        }
      ]
    },
    {
      "cell_type": "code",
      "metadata": {
        "id": "ixXyzF4HdQp4",
        "colab_type": "code",
        "outputId": "fdadea67-88b2-4990-c557-f1e28f8f83fb",
        "colab": {
          "base_uri": "https://localhost:8080/",
          "height": 34
        }
      },
      "source": [
        "test_labels.shape"
      ],
      "execution_count": 0,
      "outputs": [
        {
          "output_type": "execute_result",
          "data": {
            "text/plain": [
              "(2661, 7)"
            ]
          },
          "metadata": {
            "tags": []
          },
          "execution_count": 23
        }
      ]
    },
    {
      "cell_type": "markdown",
      "metadata": {
        "id": "NSBs4dsudQp7",
        "colab_type": "text"
      },
      "source": [
        "# CNN Architecture!"
      ]
    },
    {
      "cell_type": "code",
      "metadata": {
        "id": "8J5OTE8FdQp8",
        "colab_type": "code",
        "colab": {}
      },
      "source": [
        "batch_size = 10\n",
        "epochs = 12"
      ],
      "execution_count": 0,
      "outputs": []
    },
    {
      "cell_type": "code",
      "metadata": {
        "id": "CJkhKnkndQp_",
        "colab_type": "code",
        "colab": {}
      },
      "source": [
        "model = Sequential()\n",
        "model.add(Conv2D(32, (5, 5), input_shape=(256, 256, 1), activation='relu'))\n",
        "model.add(Conv2D(64, (5, 5), input_shape=(256, 256, 1), activation='relu'))\n",
        "\n",
        "model.add(Conv2D(128, (3, 3), input_shape=(256, 256, 1), activation='relu'))\n",
        "# model.add(Conv2D(256, (3, 3), input_shape=(256, 256, 1), activation='relu'))\n",
        "model.add(MaxPooling2D(pool_size=(2, 2)))\n",
        "\n",
        "#model.add(Dropout(0.2))\n",
        "model.add(Flatten())\n",
        "model.add(Dense(128, activation='relu'))\n",
        "model.add(Dense(150, activation='relu'))\n",
        "model.add(Dense(70, activation='relu'))\n",
        "model.add(Dense(classes, activation='softmax'))\n",
        "    \n",
        "model.compile(loss='categorical_crossentropy', optimizer='adam', metrics=['accuracy'])"
      ],
      "execution_count": 0,
      "outputs": []
    },
    {
      "cell_type": "markdown",
      "metadata": {
        "id": "sfh46Sv5dQqC",
        "colab_type": "text"
      },
      "source": [
        "# LOOP!"
      ]
    },
    {
      "cell_type": "code",
      "metadata": {
        "id": "SvRo5bCodQqD",
        "colab_type": "code",
        "outputId": "a0835501-ffea-4dc0-f45f-b260546d3233",
        "colab": {
          "base_uri": "https://localhost:8080/",
          "height": 659
        }
      },
      "source": [
        "for count in range(0,5):\n",
        "    print(\"loop:\"+ str(count))\n",
        "    train_pixels = []\n",
        "    \n",
        "    itr1 = (count*1000)+1\n",
        "    itr2 = ((count+1)*1000)+1\n",
        "    \n",
        "    train_labels = np.asarray(labels[itr1 - 1: itr2 - 1])\n",
        "    \n",
        "    train_labels = train_labels.reshape(-1, 1)\n",
        "    \n",
        "    train_labels = enc.transform(train_labels)\n",
        "    \n",
        "    \n",
        "    for count1 in range(itr1, itr2):\n",
        "        \n",
        "        image_name = train_records[count1]\n",
        "        PATH = image_name\n",
        "        \n",
        "        # Traversing every Image\n",
        "        img = image.open(PATH)\n",
        "        \n",
        "        width, height = img.size\n",
        "        mat = img.format\n",
        "        mode = img.mode\n",
        "\n",
        "        # Greyscale\n",
        "        img_grey = img.convert('L')\n",
        "\n",
        "        # Save as Greyscale \n",
        "        value = np.asarray(img_grey.getdata(), dtype=np.int).reshape((img_grey.size[1], img_grey.size[0]))\n",
        "        value = value.flatten()\n",
        "#         value = value.reshape(1, 65536)\n",
        "        train_pixels.append(value)\n",
        "        \n",
        "    train_pixels = np.asarray(train_pixels, dtype = 'int')\n",
        "    \n",
        "    if K.image_data_format() == 'channels_first':\n",
        "        train_pixels = train_pixels.reshape(train_pixels.shape[0], 1, img_rows, img_cols)\n",
        "#         x_test = x_test.reshape(x_test.shape[0], 1, img_rows, img_cols)\n",
        "        input_shape = (1, img_rows, img_cols)\n",
        "    else:\n",
        "        train_pixels = train_pixels.reshape(train_pixels.shape[0], img_rows, img_cols, 1)\n",
        "#         x_test = x_test.reshape(x_test.shape[0], img_rows, img_cols, 1)\n",
        "        input_shape = (img_rows, img_cols, 1)\n",
        "    \n",
        "    train_pixels = train_pixels.astype('float32')\n",
        "    \n",
        "    train_pixels /= 255\n",
        "    \n",
        "    \n",
        "    model.fit(train_pixels, train_labels, batch_size = batch_size, epochs = epochs, verbose=1, validation_data=(test_pixels, test_labels))\n",
        "    score = model.evaluate(test_pixels, test_labels, verbose=1)\n",
        "    print('Test loss:', score[0])\n",
        "    print('Test accuracy:', score[1])"
      ],
      "execution_count": 0,
      "outputs": [
        {
          "output_type": "stream",
          "text": [
            "loop:0\n",
            "Train on 1000 samples, validate on 2661 samples\n",
            "Epoch 1/12\n",
            "1000/1000 [==============================] - 340s 340ms/step - loss: 3.0880 - acc: 0.2540 - val_loss: 1.8496 - val_acc: 0.2946\n",
            "Epoch 2/12\n",
            "1000/1000 [==============================] - 330s 330ms/step - loss: 1.8380 - acc: 0.2980 - val_loss: 1.8425 - val_acc: 0.2946\n",
            "Epoch 3/12\n",
            "1000/1000 [==============================] - 324s 324ms/step - loss: 1.8133 - acc: 0.3120 - val_loss: 1.8209 - val_acc: 0.2946\n",
            "Epoch 4/12\n",
            "1000/1000 [==============================] - 317s 317ms/step - loss: 1.8101 - acc: 0.3120 - val_loss: 1.8167 - val_acc: 0.2946\n",
            "Epoch 5/12\n",
            "1000/1000 [==============================] - 325s 325ms/step - loss: 1.8038 - acc: 0.3120 - val_loss: 1.8155 - val_acc: 0.2946\n",
            "Epoch 6/12\n",
            "1000/1000 [==============================] - 321s 321ms/step - loss: 1.8130 - acc: 0.3120 - val_loss: 1.8588 - val_acc: 0.2958\n",
            "Epoch 7/12\n",
            " 990/1000 [============================>.] - ETA: 2s - loss: 1.7521 - acc: 0.3232"
          ],
          "name": "stdout"
        },
        {
          "output_type": "error",
          "ename": "KeyboardInterrupt",
          "evalue": "ignored",
          "traceback": [
            "\u001b[0;31m---------------------------------------------------------------------------\u001b[0m",
            "\u001b[0;31mKeyboardInterrupt\u001b[0m                         Traceback (most recent call last)",
            "\u001b[0;32m<ipython-input-38-99acdca31175>\u001b[0m in \u001b[0;36m<module>\u001b[0;34m()\u001b[0m\n\u001b[1;32m     50\u001b[0m \u001b[0;34m\u001b[0m\u001b[0m\n\u001b[1;32m     51\u001b[0m \u001b[0;34m\u001b[0m\u001b[0m\n\u001b[0;32m---> 52\u001b[0;31m     \u001b[0mmodel\u001b[0m\u001b[0;34m.\u001b[0m\u001b[0mfit\u001b[0m\u001b[0;34m(\u001b[0m\u001b[0mtrain_pixels\u001b[0m\u001b[0;34m,\u001b[0m \u001b[0mtrain_labels\u001b[0m\u001b[0;34m,\u001b[0m \u001b[0mbatch_size\u001b[0m \u001b[0;34m=\u001b[0m \u001b[0mbatch_size\u001b[0m\u001b[0;34m,\u001b[0m \u001b[0mepochs\u001b[0m \u001b[0;34m=\u001b[0m \u001b[0mepochs\u001b[0m\u001b[0;34m,\u001b[0m \u001b[0mverbose\u001b[0m\u001b[0;34m=\u001b[0m\u001b[0;36m1\u001b[0m\u001b[0;34m,\u001b[0m \u001b[0mvalidation_data\u001b[0m\u001b[0;34m=\u001b[0m\u001b[0;34m(\u001b[0m\u001b[0mtest_pixels\u001b[0m\u001b[0;34m,\u001b[0m \u001b[0mtest_labels\u001b[0m\u001b[0;34m)\u001b[0m\u001b[0;34m)\u001b[0m\u001b[0;34m\u001b[0m\u001b[0;34m\u001b[0m\u001b[0m\n\u001b[0m\u001b[1;32m     53\u001b[0m     \u001b[0mscore\u001b[0m \u001b[0;34m=\u001b[0m \u001b[0mmodel\u001b[0m\u001b[0;34m.\u001b[0m\u001b[0mevaluate\u001b[0m\u001b[0;34m(\u001b[0m\u001b[0mtest_pixels\u001b[0m\u001b[0;34m,\u001b[0m \u001b[0mtest_labels\u001b[0m\u001b[0;34m,\u001b[0m \u001b[0mverbose\u001b[0m\u001b[0;34m=\u001b[0m\u001b[0;36m1\u001b[0m\u001b[0;34m)\u001b[0m\u001b[0;34m\u001b[0m\u001b[0;34m\u001b[0m\u001b[0m\n\u001b[1;32m     54\u001b[0m     \u001b[0mprint\u001b[0m\u001b[0;34m(\u001b[0m\u001b[0;34m'Test loss:'\u001b[0m\u001b[0;34m,\u001b[0m \u001b[0mscore\u001b[0m\u001b[0;34m[\u001b[0m\u001b[0;36m0\u001b[0m\u001b[0;34m]\u001b[0m\u001b[0;34m)\u001b[0m\u001b[0;34m\u001b[0m\u001b[0;34m\u001b[0m\u001b[0m\n",
            "\u001b[0;32m/usr/local/lib/python3.6/dist-packages/keras/engine/training.py\u001b[0m in \u001b[0;36mfit\u001b[0;34m(self, x, y, batch_size, epochs, verbose, callbacks, validation_split, validation_data, shuffle, class_weight, sample_weight, initial_epoch, steps_per_epoch, validation_steps, validation_freq, max_queue_size, workers, use_multiprocessing, **kwargs)\u001b[0m\n\u001b[1;32m   1176\u001b[0m                                         \u001b[0msteps_per_epoch\u001b[0m\u001b[0;34m=\u001b[0m\u001b[0msteps_per_epoch\u001b[0m\u001b[0;34m,\u001b[0m\u001b[0;34m\u001b[0m\u001b[0;34m\u001b[0m\u001b[0m\n\u001b[1;32m   1177\u001b[0m                                         \u001b[0mvalidation_steps\u001b[0m\u001b[0;34m=\u001b[0m\u001b[0mvalidation_steps\u001b[0m\u001b[0;34m,\u001b[0m\u001b[0;34m\u001b[0m\u001b[0;34m\u001b[0m\u001b[0m\n\u001b[0;32m-> 1178\u001b[0;31m                                         validation_freq=validation_freq)\n\u001b[0m\u001b[1;32m   1179\u001b[0m \u001b[0;34m\u001b[0m\u001b[0m\n\u001b[1;32m   1180\u001b[0m     def evaluate(self,\n",
            "\u001b[0;32m/usr/local/lib/python3.6/dist-packages/keras/engine/training_arrays.py\u001b[0m in \u001b[0;36mfit_loop\u001b[0;34m(model, fit_function, fit_inputs, out_labels, batch_size, epochs, verbose, callbacks, val_function, val_inputs, shuffle, callback_metrics, initial_epoch, steps_per_epoch, validation_steps, validation_freq)\u001b[0m\n\u001b[1;32m    216\u001b[0m                                          \u001b[0mbatch_size\u001b[0m\u001b[0;34m=\u001b[0m\u001b[0mbatch_size\u001b[0m\u001b[0;34m,\u001b[0m\u001b[0;34m\u001b[0m\u001b[0;34m\u001b[0m\u001b[0m\n\u001b[1;32m    217\u001b[0m                                          \u001b[0mcallbacks\u001b[0m\u001b[0;34m=\u001b[0m\u001b[0mcallbacks\u001b[0m\u001b[0;34m,\u001b[0m\u001b[0;34m\u001b[0m\u001b[0;34m\u001b[0m\u001b[0m\n\u001b[0;32m--> 218\u001b[0;31m                                          verbose=0)\n\u001b[0m\u001b[1;32m    219\u001b[0m                     \u001b[0mval_outs\u001b[0m \u001b[0;34m=\u001b[0m \u001b[0mto_list\u001b[0m\u001b[0;34m(\u001b[0m\u001b[0mval_outs\u001b[0m\u001b[0;34m)\u001b[0m\u001b[0;34m\u001b[0m\u001b[0;34m\u001b[0m\u001b[0m\n\u001b[1;32m    220\u001b[0m                     \u001b[0;31m# Same labels assumed.\u001b[0m\u001b[0;34m\u001b[0m\u001b[0;34m\u001b[0m\u001b[0;34m\u001b[0m\u001b[0m\n",
            "\u001b[0;32m/usr/local/lib/python3.6/dist-packages/keras/engine/training_arrays.py\u001b[0m in \u001b[0;36mtest_loop\u001b[0;34m(model, f, ins, batch_size, verbose, steps, callbacks)\u001b[0m\n\u001b[1;32m    468\u001b[0m             \u001b[0mbatch_logs\u001b[0m \u001b[0;34m=\u001b[0m \u001b[0;34m{\u001b[0m\u001b[0;34m'batch'\u001b[0m\u001b[0;34m:\u001b[0m \u001b[0mbatch_index\u001b[0m\u001b[0;34m,\u001b[0m \u001b[0;34m'size'\u001b[0m\u001b[0;34m:\u001b[0m \u001b[0mlen\u001b[0m\u001b[0;34m(\u001b[0m\u001b[0mbatch_ids\u001b[0m\u001b[0;34m)\u001b[0m\u001b[0;34m}\u001b[0m\u001b[0;34m\u001b[0m\u001b[0;34m\u001b[0m\u001b[0m\n\u001b[1;32m    469\u001b[0m             \u001b[0mcallbacks\u001b[0m\u001b[0;34m.\u001b[0m\u001b[0m_call_batch_hook\u001b[0m\u001b[0;34m(\u001b[0m\u001b[0;34m'test'\u001b[0m\u001b[0;34m,\u001b[0m \u001b[0;34m'begin'\u001b[0m\u001b[0;34m,\u001b[0m \u001b[0mbatch_index\u001b[0m\u001b[0;34m,\u001b[0m \u001b[0mbatch_logs\u001b[0m\u001b[0;34m)\u001b[0m\u001b[0;34m\u001b[0m\u001b[0;34m\u001b[0m\u001b[0m\n\u001b[0;32m--> 470\u001b[0;31m             \u001b[0mbatch_outs\u001b[0m \u001b[0;34m=\u001b[0m \u001b[0mf\u001b[0m\u001b[0;34m(\u001b[0m\u001b[0mins_batch\u001b[0m\u001b[0;34m)\u001b[0m\u001b[0;34m\u001b[0m\u001b[0;34m\u001b[0m\u001b[0m\n\u001b[0m\u001b[1;32m    471\u001b[0m             \u001b[0;32mif\u001b[0m \u001b[0misinstance\u001b[0m\u001b[0;34m(\u001b[0m\u001b[0mbatch_outs\u001b[0m\u001b[0;34m,\u001b[0m \u001b[0mlist\u001b[0m\u001b[0;34m)\u001b[0m\u001b[0;34m:\u001b[0m\u001b[0;34m\u001b[0m\u001b[0;34m\u001b[0m\u001b[0m\n\u001b[1;32m    472\u001b[0m                 \u001b[0;32mif\u001b[0m \u001b[0mbatch_index\u001b[0m \u001b[0;34m==\u001b[0m \u001b[0;36m0\u001b[0m\u001b[0;34m:\u001b[0m\u001b[0;34m\u001b[0m\u001b[0;34m\u001b[0m\u001b[0m\n",
            "\u001b[0;32m/usr/local/lib/python3.6/dist-packages/keras/backend/tensorflow_backend.py\u001b[0m in \u001b[0;36m__call__\u001b[0;34m(self, inputs)\u001b[0m\n\u001b[1;32m   2977\u001b[0m                     \u001b[0;32mreturn\u001b[0m \u001b[0mself\u001b[0m\u001b[0;34m.\u001b[0m\u001b[0m_legacy_call\u001b[0m\u001b[0;34m(\u001b[0m\u001b[0minputs\u001b[0m\u001b[0;34m)\u001b[0m\u001b[0;34m\u001b[0m\u001b[0;34m\u001b[0m\u001b[0m\n\u001b[1;32m   2978\u001b[0m \u001b[0;34m\u001b[0m\u001b[0m\n\u001b[0;32m-> 2979\u001b[0;31m             \u001b[0;32mreturn\u001b[0m \u001b[0mself\u001b[0m\u001b[0;34m.\u001b[0m\u001b[0m_call\u001b[0m\u001b[0;34m(\u001b[0m\u001b[0minputs\u001b[0m\u001b[0;34m)\u001b[0m\u001b[0;34m\u001b[0m\u001b[0;34m\u001b[0m\u001b[0m\n\u001b[0m\u001b[1;32m   2980\u001b[0m         \u001b[0;32melse\u001b[0m\u001b[0;34m:\u001b[0m\u001b[0;34m\u001b[0m\u001b[0;34m\u001b[0m\u001b[0m\n\u001b[1;32m   2981\u001b[0m             \u001b[0;32mif\u001b[0m \u001b[0mpy_any\u001b[0m\u001b[0;34m(\u001b[0m\u001b[0mis_tensor\u001b[0m\u001b[0;34m(\u001b[0m\u001b[0mx\u001b[0m\u001b[0;34m)\u001b[0m \u001b[0;32mfor\u001b[0m \u001b[0mx\u001b[0m \u001b[0;32min\u001b[0m \u001b[0minputs\u001b[0m\u001b[0;34m)\u001b[0m\u001b[0;34m:\u001b[0m\u001b[0;34m\u001b[0m\u001b[0;34m\u001b[0m\u001b[0m\n",
            "\u001b[0;32m/usr/local/lib/python3.6/dist-packages/keras/backend/tensorflow_backend.py\u001b[0m in \u001b[0;36m_call\u001b[0;34m(self, inputs)\u001b[0m\n\u001b[1;32m   2935\u001b[0m             \u001b[0mfetched\u001b[0m \u001b[0;34m=\u001b[0m \u001b[0mself\u001b[0m\u001b[0;34m.\u001b[0m\u001b[0m_callable_fn\u001b[0m\u001b[0;34m(\u001b[0m\u001b[0;34m*\u001b[0m\u001b[0marray_vals\u001b[0m\u001b[0;34m,\u001b[0m \u001b[0mrun_metadata\u001b[0m\u001b[0;34m=\u001b[0m\u001b[0mself\u001b[0m\u001b[0;34m.\u001b[0m\u001b[0mrun_metadata\u001b[0m\u001b[0;34m)\u001b[0m\u001b[0;34m\u001b[0m\u001b[0;34m\u001b[0m\u001b[0m\n\u001b[1;32m   2936\u001b[0m         \u001b[0;32melse\u001b[0m\u001b[0;34m:\u001b[0m\u001b[0;34m\u001b[0m\u001b[0;34m\u001b[0m\u001b[0m\n\u001b[0;32m-> 2937\u001b[0;31m             \u001b[0mfetched\u001b[0m \u001b[0;34m=\u001b[0m \u001b[0mself\u001b[0m\u001b[0;34m.\u001b[0m\u001b[0m_callable_fn\u001b[0m\u001b[0;34m(\u001b[0m\u001b[0;34m*\u001b[0m\u001b[0marray_vals\u001b[0m\u001b[0;34m)\u001b[0m\u001b[0;34m\u001b[0m\u001b[0;34m\u001b[0m\u001b[0m\n\u001b[0m\u001b[1;32m   2938\u001b[0m         \u001b[0;32mreturn\u001b[0m \u001b[0mfetched\u001b[0m\u001b[0;34m[\u001b[0m\u001b[0;34m:\u001b[0m\u001b[0mlen\u001b[0m\u001b[0;34m(\u001b[0m\u001b[0mself\u001b[0m\u001b[0;34m.\u001b[0m\u001b[0moutputs\u001b[0m\u001b[0;34m)\u001b[0m\u001b[0;34m]\u001b[0m\u001b[0;34m\u001b[0m\u001b[0;34m\u001b[0m\u001b[0m\n\u001b[1;32m   2939\u001b[0m \u001b[0;34m\u001b[0m\u001b[0m\n",
            "\u001b[0;32m/usr/local/lib/python3.6/dist-packages/tensorflow_core/python/client/session.py\u001b[0m in \u001b[0;36m__call__\u001b[0;34m(self, *args, **kwargs)\u001b[0m\n\u001b[1;32m   1470\u001b[0m         ret = tf_session.TF_SessionRunCallable(self._session._session,\n\u001b[1;32m   1471\u001b[0m                                                \u001b[0mself\u001b[0m\u001b[0;34m.\u001b[0m\u001b[0m_handle\u001b[0m\u001b[0;34m,\u001b[0m \u001b[0margs\u001b[0m\u001b[0;34m,\u001b[0m\u001b[0;34m\u001b[0m\u001b[0;34m\u001b[0m\u001b[0m\n\u001b[0;32m-> 1472\u001b[0;31m                                                run_metadata_ptr)\n\u001b[0m\u001b[1;32m   1473\u001b[0m         \u001b[0;32mif\u001b[0m \u001b[0mrun_metadata\u001b[0m\u001b[0;34m:\u001b[0m\u001b[0;34m\u001b[0m\u001b[0;34m\u001b[0m\u001b[0m\n\u001b[1;32m   1474\u001b[0m           \u001b[0mproto_data\u001b[0m \u001b[0;34m=\u001b[0m \u001b[0mtf_session\u001b[0m\u001b[0;34m.\u001b[0m\u001b[0mTF_GetBuffer\u001b[0m\u001b[0;34m(\u001b[0m\u001b[0mrun_metadata_ptr\u001b[0m\u001b[0;34m)\u001b[0m\u001b[0;34m\u001b[0m\u001b[0;34m\u001b[0m\u001b[0m\n",
            "\u001b[0;31mKeyboardInterrupt\u001b[0m: "
          ]
        }
      ]
    },
    {
      "cell_type": "code",
      "metadata": {
        "id": "Bd7wHOFwdQqH",
        "colab_type": "code",
        "outputId": "900593b6-92a7-403c-8942-b30066c25ed7",
        "colab": {
          "base_uri": "https://localhost:8080/",
          "height": 34
        }
      },
      "source": [
        "# train_pixels.shape\n",
        "np.sum(train_labels,axis = 0)"
      ],
      "execution_count": 0,
      "outputs": [
        {
          "output_type": "execute_result",
          "data": {
            "text/plain": [
              "matrix([[130.,  78., 156., 155., 133., 312.,  36.]])"
            ]
          },
          "metadata": {
            "tags": []
          },
          "execution_count": 36
        }
      ]
    },
    {
      "cell_type": "code",
      "metadata": {
        "id": "coWUi6DGdQqL",
        "colab_type": "code",
        "outputId": "835a3958-3cca-4038-ce83-1fc17f39417a",
        "colab": {}
      },
      "source": [
        "train_labels.shape"
      ],
      "execution_count": 0,
      "outputs": [
        {
          "output_type": "execute_result",
          "data": {
            "text/plain": [
              "(500, 15)"
            ]
          },
          "metadata": {
            "tags": []
          },
          "execution_count": 60
        }
      ]
    },
    {
      "cell_type": "code",
      "metadata": {
        "id": "6nqdESuVdQqO",
        "colab_type": "code",
        "colab": {}
      },
      "source": [
        ""
      ],
      "execution_count": 0,
      "outputs": []
    },
    {
      "cell_type": "markdown",
      "metadata": {
        "id": "e6NqDvrhdQqQ",
        "colab_type": "text"
      },
      "source": [
        "# TIMEPASS!"
      ]
    },
    {
      "cell_type": "code",
      "metadata": {
        "id": "pqoDWfpXdQqR",
        "colab_type": "code",
        "colab": {}
      },
      "source": [
        "path = '/home/vilkhu/Sabudh!/PAU/plant_disease/Plant_village'"
      ],
      "execution_count": 0,
      "outputs": []
    },
    {
      "cell_type": "code",
      "metadata": {
        "id": "FQR1a36udQqT",
        "colab_type": "code",
        "colab": {}
      },
      "source": [
        "dircs = sorted(os.listdir(path))\n",
        "\n",
        "pixels = []"
      ],
      "execution_count": 0,
      "outputs": []
    },
    {
      "cell_type": "code",
      "metadata": {
        "id": "p0zlQZV5dQqW",
        "colab_type": "code",
        "colab": {}
      },
      "source": [
        "def img_to_pixel(img):\n",
        "    \n",
        "    img = image.open(PATH + '/' + img)\n",
        "    width, height = img.size\n",
        "    mat = img.format\n",
        "    mode = img.mode\n",
        "\n",
        "    img_grey = img.convert('L')\n",
        "\n",
        "    value = np.asarray(img_grey.getdata(), dtype=np.int).reshape((img_grey.size[1], img_grey.size[0]))\n",
        "    value = value.flatten()\n",
        "#     value = value.reshape(1,65536)\n",
        "        \n",
        "    yield value"
      ],
      "execution_count": 0,
      "outputs": []
    },
    {
      "cell_type": "code",
      "metadata": {
        "id": "MauE0YycdQqY",
        "colab_type": "code",
        "colab": {}
      },
      "source": [
        "with open('data.csv', 'w', newline = '') as file:\n",
        "\n",
        "    for dirc in dircs:\n",
        "    \n",
        "        PATH = path + '/' + dirc\n",
        "        dirc_list = sorted(os.listdir(PATH))   \n",
        "\n",
        "    \n",
        "        for img in dirc_list:\n",
        "            for itr in img_to_pixel(img):\n",
        "            \n",
        "                writer = csv.writer(file)\n",
        "                writer.writerow(itr)"
      ],
      "execution_count": 0,
      "outputs": []
    },
    {
      "cell_type": "code",
      "metadata": {
        "id": "UjmCHS-AdQqc",
        "colab_type": "code",
        "colab": {}
      },
      "source": [
        "import pandas as pd\n",
        "import csv"
      ],
      "execution_count": 0,
      "outputs": []
    },
    {
      "cell_type": "code",
      "metadata": {
        "id": "sOIgVhBMdQqg",
        "colab_type": "code",
        "colab": {}
      },
      "source": [
        "pdata = pd.read_csv('data.csv')"
      ],
      "execution_count": 0,
      "outputs": []
    },
    {
      "cell_type": "code",
      "metadata": {
        "id": "u7BpPAV_dQqk",
        "colab_type": "code",
        "colab": {}
      },
      "source": [
        "labs=[{\"name\":'Pepper_bell_Bacterial_spot',\"times\":997},\n",
        "    {\"name\":'Pepper_bell_healthy',\"times\":1478},\n",
        "    {\"name\":'Potato_Early_blight',\"times\":1000},\n",
        "    {\"name\":'Potato_healthy',\"times\":152},\n",
        "    {\"name\":'Potato_Late_blight',\"times\":1000},\n",
        "    {\"name\":'Tomato_Bacterial_spot',\"times\":2127},\n",
        "    {\"name\":'Tomato_Early_blight',\"times\":1000},\n",
        "    {\"name\":'Tomato_healthy',\"times\":1591},\n",
        "    {\"name\":'Tomato_Late_blight',\"times\":1909},\n",
        "    {\"name\":'Tomato_Leaf_Mold',\"times\":952},\n",
        "    {\"name\":'Tomato_Septoria_leaf_spot',\"times\":1771},\n",
        "    {\"name\":'Tomato_Spider_mites_Two_spotted_spider_mite',\"times\":1676},\n",
        "    {\"name\":'Tomato_Target_Spot',\"times\":1404},\n",
        "    {\"name\":'Tomato_Tomato_mosaic_virus',\"times\":373},\n",
        "    {\"name\":'Tomato_Tomato_YellowLeaf_Curl_Virus',\"times\":3208}]\n",
        "\n",
        "labels=[]\n",
        "li=[]\n",
        "for i in labs:\n",
        "    li=[i[\"name\"]]*i['times']\n",
        "    labels.extend(li)"
      ],
      "execution_count": 0,
      "outputs": []
    },
    {
      "cell_type": "markdown",
      "metadata": {
        "id": "UnsSV3FMdQqn",
        "colab_type": "text"
      },
      "source": [
        "# ENDS HERE!"
      ]
    },
    {
      "cell_type": "code",
      "metadata": {
        "id": "2gYI_ftqdQqo",
        "colab_type": "code",
        "colab": {}
      },
      "source": [
        ""
      ],
      "execution_count": 0,
      "outputs": []
    }
  ]
}